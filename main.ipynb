{
 "cells": [
  {
   "cell_type": "code",
   "execution_count": 1,
   "metadata": {},
   "outputs": [],
   "source": [
    "from transaction import *\n",
    "from item import *"
   ]
  },
  {
   "cell_type": "code",
   "execution_count": 2,
   "metadata": {},
   "outputs": [
    {
     "name": "stdout",
     "output_type": "stream",
     "text": [
      "mobil 1 1000 1000\n",
      "motor 2 2000 4000\n",
      "sepeda 5 500 2500\n"
     ]
    }
   ],
   "source": [
    "transaction1 = Transaction()\n",
    "\n",
    "transaction1.add_item(Item(\"mobil\",1,1000))\n",
    "transaction1.add_item(Item(\"motor\",2,2000))\n",
    "transaction1.add_item(Item(\"sepeda\",5,500))\n",
    "\n",
    "for t in transaction1.Item:\n",
    "    print(t.Name, t.Qty, t.Price, t.Total)"
   ]
  },
  {
   "cell_type": "code",
   "execution_count": 512,
   "metadata": {},
   "outputs": [
    {
     "name": "stdout",
     "output_type": "stream",
     "text": [
      "truk 1 1000 1000\n",
      "motor 2 2000 4000\n",
      "sepeda 5 500 2500\n"
     ]
    }
   ],
   "source": [
    "transaction1.update_item_name(\"mobil\",\"truk\")\n",
    "for t in transaction1.Item:\n",
    "    print(t.Name, t.Qty, t.Price, t.Total)"
   ]
  },
  {
   "cell_type": "code",
   "execution_count": 513,
   "metadata": {},
   "outputs": [
    {
     "name": "stdout",
     "output_type": "stream",
     "text": [
      "truk 1 2000 2000\n",
      "motor 2 2000 4000\n",
      "sepeda 5 500 2500\n"
     ]
    }
   ],
   "source": [
    "transaction1.update_item_price(\"truk\",\"2000\")\n",
    "for t in transaction1.Item:\n",
    "    print(t.Name, t.Qty, t.Price, t.Total)"
   ]
  },
  {
   "cell_type": "code",
   "execution_count": 514,
   "metadata": {},
   "outputs": [
    {
     "name": "stdout",
     "output_type": "stream",
     "text": [
      "motor 2 2000 4000\n",
      "sepeda 5 500 2500\n"
     ]
    }
   ],
   "source": [
    "transaction1.delete_item(\"truk\")\n",
    "#transaction1.delete_item(\"motor\")\n",
    "for t in transaction1.Item:\n",
    "    if t.Enable==1: print(t.Name, t.Qty, t.Price, t.Total)"
   ]
  },
  {
   "cell_type": "code",
   "execution_count": 515,
   "metadata": {},
   "outputs": [
    {
     "name": "stdout",
     "output_type": "stream",
     "text": [
      "motor 2 2000 4000\n",
      "sepeda 5 500 2500\n"
     ]
    }
   ],
   "source": [
    "#transaction1.reset_transaction()\n",
    "for t in transaction1.Item:\n",
    "    if t.Enable==1: print(t.Name, t.Qty, t.Price, t.Total)"
   ]
  },
  {
   "cell_type": "code",
   "execution_count": 516,
   "metadata": {},
   "outputs": [
    {
     "name": "stdout",
     "output_type": "stream",
     "text": [
      "| No | Nama Item | Jumlah Item | Harga/Item | Total Harga |\n",
      "|----|-----------|-------------|------------|-------------|\n",
      "| 1  | motor     | 2           | 2000       | 4000        |\n",
      "| 2  | sepeda     | 5           | 500       | 2500        |\n"
     ]
    }
   ],
   "source": [
    "transaction1.check_order()"
   ]
  },
  {
   "cell_type": "code",
   "execution_count": 517,
   "metadata": {},
   "outputs": [
    {
     "data": {
      "text/plain": [
       "6500"
      ]
     },
     "execution_count": 517,
     "metadata": {},
     "output_type": "execute_result"
    }
   ],
   "source": [
    "transaction1.total_price()"
   ]
  }
 ],
 "metadata": {
  "kernelspec": {
   "display_name": "pacmann_kasir",
   "language": "python",
   "name": "python3"
  },
  "language_info": {
   "codemirror_mode": {
    "name": "ipython",
    "version": 3
   },
   "file_extension": ".py",
   "mimetype": "text/x-python",
   "name": "python",
   "nbconvert_exporter": "python",
   "pygments_lexer": "ipython3",
   "version": "3.9.16"
  },
  "orig_nbformat": 4,
  "vscode": {
   "interpreter": {
    "hash": "c91406009d626dcb0bb79cbee30cdab7f403a8001ec1a6b8cbfd3f2420f911c9"
   }
  }
 },
 "nbformat": 4,
 "nbformat_minor": 2
}
