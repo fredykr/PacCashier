{
 "cells": [
  {
   "cell_type": "code",
   "execution_count": 249,
   "metadata": {},
   "outputs": [],
   "source": [
    "from tabulate import tabulate\n",
    "from dataclasses import dataclass"
   ]
  },
  {
   "cell_type": "code",
   "execution_count": 510,
   "metadata": {},
   "outputs": [],
   "source": [
    "#@dataclass\n",
    "class Item():\n",
    "    def __init__(self, name, qty, price):\n",
    "        self.Name = name\n",
    "        self.Qty = qty\n",
    "        self.Price = price\n",
    "        self.Total = qty * price\n",
    "        self.Enable = 1\n",
    "\n",
    "class Transaction():   \n",
    "    grandtotal: float = 0\n",
    "    counter: int = 0\n",
    "\n",
    "    def __init__(self):\n",
    "        self.Item = []\n",
    "\n",
    "    def add_item(self, item_name):\n",
    "        self.counter+=1\n",
    "        self.Item.append(item_name)\n",
    "        #self.items.item['total'] = item_qty * self.items.item['price']\n",
    "        #grandtotal = item.total\n",
    "        return (self)\n",
    "\n",
    "    def update_item_name(self, item_name, new_item_name):\n",
    "        for t in self.Item:\n",
    "            if t.Name == item_name and t.Enable == 1:\n",
    "                t.Name = new_item_name\n",
    "            else:\n",
    "                continue\n",
    "\n",
    "    def update_item_quantity(self, item_name, new_item_qty):\n",
    "        for t in self.Item:\n",
    "            if t.Name == item_name and t.Enable == 1:\n",
    "                t.Qty = new_item_qty\n",
    "                t.Total = new_item_qty * t.Price\n",
    "            else:\n",
    "                continue\n",
    "\n",
    "    def update_item_price(self, item_name, new_item_price):\n",
    "        for t in self.Item:\n",
    "            if t.Name == item_name and t.Enable == 1:\n",
    "                t.Price = new_item_price\n",
    "                t.Total = new_item_price * t.Qty\n",
    "            else:\n",
    "                continue\n",
    "\n",
    "    def delete_item(self, item_name):\n",
    "        for t in self.Item:\n",
    "            if t.Name == item_name and t.Enable == 1:\n",
    "                t.Enable = 0\n",
    "                #del self\n",
    "                #del t\n",
    "            else:\n",
    "                continue\n",
    "\n",
    "    def reset_transaction(self):\n",
    "        for t in self.Item: t.Enable = 0\n",
    "\n",
    "    def check_order(self):\n",
    "        i = 0\n",
    "        print(f'| No | Nama Item | Jumlah Item | Harga/Item | Total Harga |')\n",
    "        print(f'|----|-----------|-------------|------------|-------------|')\n",
    "        for t in self.Item: \n",
    "            if t.Enable == 1:\n",
    "                i+=1\n",
    "                print(f'| {i}  | {t.Name}     | {t.Qty}           | {t.Price}       | {t.Total}        |')\n",
    "\n",
    "    def total_price(self):\n",
    "        for t in self.Item:\n",
    "            if t.Enable == 1:\n",
    "                self.grandtotal += t.Total\n",
    "        return self.grandtotal\n",
    "\n",
    "    def __iter__(self):\n",
    "        return iter(self.Item)\n"
   ]
  },
  {
   "cell_type": "code",
   "execution_count": 511,
   "metadata": {},
   "outputs": [
    {
     "name": "stdout",
     "output_type": "stream",
     "text": [
      "mobil 1 1000 1000\n",
      "motor 2 2000 4000\n",
      "sepeda 5 500 2500\n"
     ]
    }
   ],
   "source": [
    "transaction1 = Transaction()\n",
    "\n",
    "transaction1.add_item(Item(\"mobil\",1,1000))\n",
    "transaction1.add_item(Item(\"motor\",2,2000))\n",
    "transaction1.add_item(Item(\"sepeda\",5,500))\n",
    "\n",
    "for t in transaction1.Item:\n",
    "    print(t.Name, t.Qty, t.Price, t.Total)"
   ]
  },
  {
   "cell_type": "code",
   "execution_count": 512,
   "metadata": {},
   "outputs": [
    {
     "name": "stdout",
     "output_type": "stream",
     "text": [
      "truk 1 1000 1000\n",
      "motor 2 2000 4000\n",
      "sepeda 5 500 2500\n"
     ]
    }
   ],
   "source": [
    "transaction1.update_item_name(\"mobil\",\"truk\")\n",
    "for t in transaction1.Item:\n",
    "    print(t.Name, t.Qty, t.Price, t.Total)"
   ]
  },
  {
   "cell_type": "code",
   "execution_count": 513,
   "metadata": {},
   "outputs": [
    {
     "name": "stdout",
     "output_type": "stream",
     "text": [
      "truk 1 2000 2000\n",
      "motor 2 2000 4000\n",
      "sepeda 5 500 2500\n"
     ]
    }
   ],
   "source": [
    "transaction1.update_item_price(\"truk\",\"2000\")\n",
    "for t in transaction1.Item:\n",
    "    print(t.Name, t.Qty, t.Price, t.Total)"
   ]
  },
  {
   "cell_type": "code",
   "execution_count": 514,
   "metadata": {},
   "outputs": [
    {
     "name": "stdout",
     "output_type": "stream",
     "text": [
      "motor 2 2000 4000\n",
      "sepeda 5 500 2500\n"
     ]
    }
   ],
   "source": [
    "transaction1.delete_item(\"truk\")\n",
    "#transaction1.delete_item(\"motor\")\n",
    "for t in transaction1.Item:\n",
    "    if t.Enable==1: print(t.Name, t.Qty, t.Price, t.Total)"
   ]
  },
  {
   "cell_type": "code",
   "execution_count": 515,
   "metadata": {},
   "outputs": [
    {
     "name": "stdout",
     "output_type": "stream",
     "text": [
      "motor 2 2000 4000\n",
      "sepeda 5 500 2500\n"
     ]
    }
   ],
   "source": [
    "#transaction1.reset_transaction()\n",
    "for t in transaction1.Item:\n",
    "    if t.Enable==1: print(t.Name, t.Qty, t.Price, t.Total)"
   ]
  },
  {
   "cell_type": "code",
   "execution_count": 516,
   "metadata": {},
   "outputs": [
    {
     "name": "stdout",
     "output_type": "stream",
     "text": [
      "| No | Nama Item | Jumlah Item | Harga/Item | Total Harga |\n",
      "|----|-----------|-------------|------------|-------------|\n",
      "| 1  | motor     | 2           | 2000       | 4000        |\n",
      "| 2  | sepeda     | 5           | 500       | 2500        |\n"
     ]
    }
   ],
   "source": [
    "transaction1.check_order()"
   ]
  },
  {
   "cell_type": "code",
   "execution_count": 517,
   "metadata": {},
   "outputs": [
    {
     "data": {
      "text/plain": [
       "6500"
      ]
     },
     "execution_count": 517,
     "metadata": {},
     "output_type": "execute_result"
    }
   ],
   "source": [
    "transaction1.total_price()"
   ]
  }
 ],
 "metadata": {
  "kernelspec": {
   "display_name": "pacflix",
   "language": "python",
   "name": "python3"
  },
  "language_info": {
   "codemirror_mode": {
    "name": "ipython",
    "version": 3
   },
   "file_extension": ".py",
   "mimetype": "text/x-python",
   "name": "python",
   "nbconvert_exporter": "python",
   "pygments_lexer": "ipython3",
   "version": "3.10.9"
  },
  "orig_nbformat": 4,
  "vscode": {
   "interpreter": {
    "hash": "b97a8baea5d37531422e451c7575e61e56d89401afdacde8eea91026275626f9"
   }
  }
 },
 "nbformat": 4,
 "nbformat_minor": 2
}
